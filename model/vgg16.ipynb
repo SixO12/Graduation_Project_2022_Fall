{
  "nbformat": 4,
  "nbformat_minor": 0,
  "metadata": {
    "colab": {
      "name": "vgg16.ipynb",
      "provenance": [],
      "collapsed_sections": [],
      "machine_shape": "hm"
    },
    "kernelspec": {
      "name": "python3",
      "display_name": "Python 3"
    },
    "language_info": {
      "name": "python"
    },
    "accelerator": "TPU"
  },
  "cells": [
    {
      "cell_type": "code",
      "execution_count": null,
      "metadata": {
        "colab": {
          "base_uri": "https://localhost:8080/"
        },
        "id": "wXl5zZF03CK-",
        "outputId": "b4a35bbb-dfe0-4048-c572-7f87027c1fc1"
      },
      "outputs": [
        {
          "output_type": "stream",
          "name": "stdout",
          "text": [
            "Mounted at /content/drive\n"
          ]
        }
      ],
      "source": [
        "from google.colab import drive\n",
        "drive.mount('/content/drive')"
      ]
    },
    {
      "cell_type": "code",
      "source": [
        "import numpy as np\n",
        "from keras_preprocessing.image import ImageDataGenerator\n",
        "import tensorflow as tf\n",
        "import keras\n",
        "import matplotlib.pyplot as plt\n",
        "import pandas as pd\n",
        "from tensorflow.keras.applications import VGG16\n",
        "from keras.models import Model\n",
        "from keras.applications.vgg16 import preprocess_input"
      ],
      "metadata": {
        "id": "gBXrBQg03EyZ"
      },
      "execution_count": null,
      "outputs": []
    },
    {
      "cell_type": "code",
      "source": [
        "train_data_dir = '/content/drive/MyDrive/FinalProject/archive/Garbage classification/Garbage classification'\n",
        "img_width = 224\n",
        "img_height = 224\n",
        "batch_size = 32\n",
        "\n",
        "# Augmentation data\n",
        "train_datagen = ImageDataGenerator(\n",
        "    preprocessing_function=preprocess_input,        \n",
        "    horizontal_flip=True,\n",
        "    rotation_range=30,\n",
        "    width_shift_range=0.2,\n",
        "    shear_range=0.2, \n",
        "    zoom_range=0.2,\n",
        "    brightness_range=[0.8,1.2],\n",
        "    validation_split=0.1\n",
        "    )\n",
        "val_datagen = ImageDataGenerator(preprocessing_function=preprocess_input)\n",
        "\n",
        "# Use flow_from_directory to train on batch, class_mode = categorical because have 6 classes\n",
        "train_generator = train_datagen.flow_from_directory(\n",
        "    train_data_dir,\n",
        "    target_size=(img_width, img_height),\n",
        "    batch_size=batch_size,\n",
        "    class_mode='categorical',\n",
        "    shuffle=True,\n",
        "    subset='training',\n",
        "    seed=19\n",
        "    ) \n",
        "\n",
        "validation_generator = train_datagen.flow_from_directory(\n",
        "    train_data_dir, \n",
        "    target_size=(img_width, img_height),\n",
        "    batch_size=batch_size,\n",
        "    class_mode='categorical',\n",
        "    shuffle=False,\n",
        "    subset='validation',\n",
        "    seed=19\n",
        "    )\n"
      ],
      "metadata": {
        "id": "ZnZ5hh8G3E0w",
        "colab": {
          "base_uri": "https://localhost:8080/"
        },
        "outputId": "93582d98-a3ef-417e-ff84-b57dc2a660e2"
      },
      "execution_count": null,
      "outputs": [
        {
          "output_type": "stream",
          "name": "stdout",
          "text": [
            "Found 2276 images belonging to 6 classes.\n",
            "Found 251 images belonging to 6 classes.\n"
          ]
        }
      ]
    },
    {
      "cell_type": "code",
      "source": [
        "# We use model VGG16\n",
        "pre_train_model = VGG16(\n",
        "      include_top = False,\n",
        "      weights = \"imagenet\",\n",
        "      pooling='avg',\n",
        "      input_shape = (img_width, img_height, 3)      \n",
        ")"
      ],
      "metadata": {
        "id": "_Wz44A993E3G",
        "colab": {
          "base_uri": "https://localhost:8080/"
        },
        "outputId": "b4518af9-0338-47e4-c609-169c05efc345"
      },
      "execution_count": null,
      "outputs": [
        {
          "output_type": "stream",
          "name": "stdout",
          "text": [
            "Downloading data from https://storage.googleapis.com/tensorflow/keras-applications/vgg16/vgg16_weights_tf_dim_ordering_tf_kernels_notop.h5\n",
            "58892288/58889256 [==============================] - 0s 0us/step\n",
            "58900480/58889256 [==============================] - 0s 0us/step\n"
          ]
        }
      ]
    },
    {
      "cell_type": "code",
      "source": [
        "pre_train_model.trainable = False\n",
        "last_output = pre_train_model.output"
      ],
      "metadata": {
        "id": "ygX1uP1f3E5g"
      },
      "execution_count": null,
      "outputs": []
    },
    {
      "cell_type": "code",
      "source": [
        "from keras.layers import Dense, BatchNormalization, Conv2D, Flatten, Dropout\n",
        "from tensorflow.keras.optimizers import Adam\n",
        "from keras.layers.advanced_activations import PReLU, LeakyReLU"
      ],
      "metadata": {
        "id": "KwvhWfk03E8E"
      },
      "execution_count": null,
      "outputs": []
    },
    {
      "cell_type": "code",
      "source": [
        "x = Flatten()(last_output)\n",
        "x = Dropout(0.2)(x)\n",
        "x = BatchNormalization()(x)\n",
        "x = Dense(1024, activation='relu')(x)\n",
        "x = Dropout(0.2)(x)\n",
        "x = BatchNormalization()(x)\n",
        "x = Dense(512, activation='relu')(x)\n",
        "output = Dense(6, activation='softmax')(x)"
      ],
      "metadata": {
        "id": "jlBnXQZd3E-i"
      },
      "execution_count": null,
      "outputs": []
    },
    {
      "cell_type": "code",
      "source": [
        "# Define optimizer, learning rate and loss function\n",
        "model = Model(pre_train_model.input, output)\n",
        "model.compile(optimizer=Adam(learning_rate=0.0001),loss='categorical_crossentropy',metrics=['acc'])"
      ],
      "metadata": {
        "id": "t3y-07nw3FA6"
      },
      "execution_count": null,
      "outputs": []
    },
    {
      "cell_type": "code",
      "source": [
        "print(model.summary())"
      ],
      "metadata": {
        "colab": {
          "base_uri": "https://localhost:8080/"
        },
        "id": "t60HdC5k7_kJ",
        "outputId": "121716c8-eefc-4a13-dc5f-dbf9142e3fb3"
      },
      "execution_count": null,
      "outputs": [
        {
          "output_type": "stream",
          "name": "stdout",
          "text": [
            "Model: \"model\"\n",
            "_________________________________________________________________\n",
            " Layer (type)                Output Shape              Param #   \n",
            "=================================================================\n",
            " input_1 (InputLayer)        [(None, 224, 224, 3)]     0         \n",
            "                                                                 \n",
            " block1_conv1 (Conv2D)       (None, 224, 224, 64)      1792      \n",
            "                                                                 \n",
            " block1_conv2 (Conv2D)       (None, 224, 224, 64)      36928     \n",
            "                                                                 \n",
            " block1_pool (MaxPooling2D)  (None, 112, 112, 64)      0         \n",
            "                                                                 \n",
            " block2_conv1 (Conv2D)       (None, 112, 112, 128)     73856     \n",
            "                                                                 \n",
            " block2_conv2 (Conv2D)       (None, 112, 112, 128)     147584    \n",
            "                                                                 \n",
            " block2_pool (MaxPooling2D)  (None, 56, 56, 128)       0         \n",
            "                                                                 \n",
            " block3_conv1 (Conv2D)       (None, 56, 56, 256)       295168    \n",
            "                                                                 \n",
            " block3_conv2 (Conv2D)       (None, 56, 56, 256)       590080    \n",
            "                                                                 \n",
            " block3_conv3 (Conv2D)       (None, 56, 56, 256)       590080    \n",
            "                                                                 \n",
            " block3_pool (MaxPooling2D)  (None, 28, 28, 256)       0         \n",
            "                                                                 \n",
            " block4_conv1 (Conv2D)       (None, 28, 28, 512)       1180160   \n",
            "                                                                 \n",
            " block4_conv2 (Conv2D)       (None, 28, 28, 512)       2359808   \n",
            "                                                                 \n",
            " block4_conv3 (Conv2D)       (None, 28, 28, 512)       2359808   \n",
            "                                                                 \n",
            " block4_pool (MaxPooling2D)  (None, 14, 14, 512)       0         \n",
            "                                                                 \n",
            " block5_conv1 (Conv2D)       (None, 14, 14, 512)       2359808   \n",
            "                                                                 \n",
            " block5_conv2 (Conv2D)       (None, 14, 14, 512)       2359808   \n",
            "                                                                 \n",
            " block5_conv3 (Conv2D)       (None, 14, 14, 512)       2359808   \n",
            "                                                                 \n",
            " block5_pool (MaxPooling2D)  (None, 7, 7, 512)         0         \n",
            "                                                                 \n",
            " global_average_pooling2d (G  (None, 512)              0         \n",
            " lobalAveragePooling2D)                                          \n",
            "                                                                 \n",
            " flatten (Flatten)           (None, 512)               0         \n",
            "                                                                 \n",
            " dropout (Dropout)           (None, 512)               0         \n",
            "                                                                 \n",
            " batch_normalization (BatchN  (None, 512)              2048      \n",
            " ormalization)                                                   \n",
            "                                                                 \n",
            " dense (Dense)               (None, 1024)              525312    \n",
            "                                                                 \n",
            " dropout_1 (Dropout)         (None, 1024)              0         \n",
            "                                                                 \n",
            " batch_normalization_1 (Batc  (None, 1024)             4096      \n",
            " hNormalization)                                                 \n",
            "                                                                 \n",
            " dense_1 (Dense)             (None, 512)               524800    \n",
            "                                                                 \n",
            " dense_2 (Dense)             (None, 6)                 3078      \n",
            "                                                                 \n",
            "=================================================================\n",
            "Total params: 15,774,022\n",
            "Trainable params: 1,056,262\n",
            "Non-trainable params: 14,717,760\n",
            "_________________________________________________________________\n",
            "None\n"
          ]
        }
      ]
    },
    {
      "cell_type": "code",
      "source": [
        "myCallbacks = [\n",
        "    keras.callbacks.EarlyStopping(monitor='val_acc',patience=25),\n",
        "    keras.callbacks.ModelCheckpoint(filepath='/content/drive/MyDrive/FinalProject/VGG16/logs/vgg/VGG16_{epoch:02d}_{val_acc:.2f}.h5',\n",
        "                                    monitor='val_acc',mode='max',save_best_only=True, save_freq='epoch')    \n",
        "]"
      ],
      "metadata": {
        "id": "FV57OkCo3FCw"
      },
      "execution_count": null,
      "outputs": []
    },
    {
      "cell_type": "code",
      "source": [
        "step_size_train = train_generator.n//train_generator.batch_size\n",
        "step_size_validation = validation_generator.n//validation_generator.batch_size\n",
        "\n",
        "history = model.fit(\n",
        "      train_generator,\n",
        "      steps_per_epoch = step_size_train,\n",
        "      epochs = 60, #change it\n",
        "      shuffle=False,\n",
        "      verbose = 1,\n",
        "      validation_data = validation_generator,\n",
        "      validation_steps = step_size_validation,\n",
        "      callbacks= myCallbacks\n",
        "      )"
      ],
      "metadata": {
        "id": "b6HIUfjU3FFM",
        "colab": {
          "base_uri": "https://localhost:8080/"
        },
        "outputId": "fe95eeb4-a11d-48a8-f03e-6d8b246ecdc7"
      },
      "execution_count": null,
      "outputs": [
        {
          "output_type": "stream",
          "name": "stdout",
          "text": [
            "Epoch 1/60\n",
            "71/71 [==============================] - 445s 6s/step - loss: 1.4416 - acc: 0.4732 - val_loss: 0.7751 - val_acc: 0.7455\n",
            "Epoch 2/60\n",
            "71/71 [==============================] - 85s 1s/step - loss: 0.8351 - acc: 0.6976 - val_loss: 0.6504 - val_acc: 0.7366\n",
            "Epoch 3/60\n",
            "71/71 [==============================] - 84s 1s/step - loss: 0.7035 - acc: 0.7500 - val_loss: 0.5647 - val_acc: 0.7812\n",
            "Epoch 4/60\n",
            "71/71 [==============================] - 84s 1s/step - loss: 0.6300 - acc: 0.7610 - val_loss: 0.4666 - val_acc: 0.8214\n",
            "Epoch 5/60\n",
            "71/71 [==============================] - 83s 1s/step - loss: 0.6068 - acc: 0.7821 - val_loss: 0.4786 - val_acc: 0.8259\n",
            "Epoch 6/60\n",
            "71/71 [==============================] - 84s 1s/step - loss: 0.5516 - acc: 0.7984 - val_loss: 0.4274 - val_acc: 0.8214\n",
            "Epoch 7/60\n",
            "71/71 [==============================] - 85s 1s/step - loss: 0.5503 - acc: 0.8077 - val_loss: 0.4215 - val_acc: 0.8438\n",
            "Epoch 8/60\n",
            "71/71 [==============================] - 85s 1s/step - loss: 0.5301 - acc: 0.8033 - val_loss: 0.3919 - val_acc: 0.8571\n",
            "Epoch 9/60\n",
            "71/71 [==============================] - 84s 1s/step - loss: 0.4585 - acc: 0.8305 - val_loss: 0.4283 - val_acc: 0.8170\n",
            "Epoch 10/60\n",
            "71/71 [==============================] - 84s 1s/step - loss: 0.4596 - acc: 0.8253 - val_loss: 0.3549 - val_acc: 0.8839\n",
            "Epoch 11/60\n",
            "71/71 [==============================] - 85s 1s/step - loss: 0.4430 - acc: 0.8376 - val_loss: 0.4340 - val_acc: 0.8527\n",
            "Epoch 12/60\n",
            "71/71 [==============================] - 84s 1s/step - loss: 0.4230 - acc: 0.8512 - val_loss: 0.4179 - val_acc: 0.8527\n",
            "Epoch 13/60\n",
            "71/71 [==============================] - 92s 1s/step - loss: 0.4236 - acc: 0.8508 - val_loss: 0.3692 - val_acc: 0.8750\n",
            "Epoch 14/60\n",
            "71/71 [==============================] - 96s 1s/step - loss: 0.4084 - acc: 0.8517 - val_loss: 0.4289 - val_acc: 0.8527\n",
            "Epoch 15/60\n",
            "71/71 [==============================] - 98s 1s/step - loss: 0.3883 - acc: 0.8640 - val_loss: 0.3706 - val_acc: 0.8616\n",
            "Epoch 16/60\n",
            "71/71 [==============================] - 100s 1s/step - loss: 0.3872 - acc: 0.8609 - val_loss: 0.4177 - val_acc: 0.8482\n",
            "Epoch 17/60\n",
            "71/71 [==============================] - 99s 1s/step - loss: 0.3518 - acc: 0.8776 - val_loss: 0.3435 - val_acc: 0.8705\n",
            "Epoch 18/60\n",
            "71/71 [==============================] - 100s 1s/step - loss: 0.3632 - acc: 0.8658 - val_loss: 0.4295 - val_acc: 0.8393\n",
            "Epoch 19/60\n",
            "71/71 [==============================] - 99s 1s/step - loss: 0.3671 - acc: 0.8746 - val_loss: 0.3590 - val_acc: 0.8527\n",
            "Epoch 20/60\n",
            "71/71 [==============================] - 100s 1s/step - loss: 0.3333 - acc: 0.8785 - val_loss: 0.3897 - val_acc: 0.8527\n",
            "Epoch 21/60\n",
            "71/71 [==============================] - 99s 1s/step - loss: 0.3418 - acc: 0.8706 - val_loss: 0.3592 - val_acc: 0.8527\n",
            "Epoch 22/60\n",
            "71/71 [==============================] - 98s 1s/step - loss: 0.3276 - acc: 0.8807 - val_loss: 0.3543 - val_acc: 0.8705\n",
            "Epoch 23/60\n",
            "71/71 [==============================] - 87s 1s/step - loss: 0.3140 - acc: 0.8891 - val_loss: 0.3790 - val_acc: 0.8571\n",
            "Epoch 24/60\n",
            "71/71 [==============================] - 86s 1s/step - loss: 0.3438 - acc: 0.8807 - val_loss: 0.3863 - val_acc: 0.8973\n",
            "Epoch 25/60\n",
            "71/71 [==============================] - 85s 1s/step - loss: 0.3097 - acc: 0.8856 - val_loss: 0.4273 - val_acc: 0.8571\n",
            "Epoch 26/60\n",
            "71/71 [==============================] - 86s 1s/step - loss: 0.3135 - acc: 0.8904 - val_loss: 0.3808 - val_acc: 0.8705\n",
            "Epoch 27/60\n",
            "71/71 [==============================] - 86s 1s/step - loss: 0.2894 - acc: 0.9010 - val_loss: 0.3150 - val_acc: 0.8884\n",
            "Epoch 28/60\n",
            "71/71 [==============================] - 85s 1s/step - loss: 0.2922 - acc: 0.8900 - val_loss: 0.3308 - val_acc: 0.8661\n",
            "Epoch 29/60\n",
            "71/71 [==============================] - 85s 1s/step - loss: 0.2798 - acc: 0.8961 - val_loss: 0.3606 - val_acc: 0.8616\n",
            "Epoch 30/60\n",
            "71/71 [==============================] - 86s 1s/step - loss: 0.2817 - acc: 0.8983 - val_loss: 0.3271 - val_acc: 0.8973\n",
            "Epoch 31/60\n",
            "71/71 [==============================] - 87s 1s/step - loss: 0.2810 - acc: 0.8974 - val_loss: 0.3576 - val_acc: 0.8438\n",
            "Epoch 32/60\n",
            "71/71 [==============================] - 84s 1s/step - loss: 0.2642 - acc: 0.8930 - val_loss: 0.3366 - val_acc: 0.8571\n",
            "Epoch 33/60\n",
            "71/71 [==============================] - 85s 1s/step - loss: 0.2743 - acc: 0.8996 - val_loss: 0.3712 - val_acc: 0.8750\n",
            "Epoch 34/60\n",
            "71/71 [==============================] - 85s 1s/step - loss: 0.2589 - acc: 0.9049 - val_loss: 0.2958 - val_acc: 0.8884\n",
            "Epoch 35/60\n",
            "71/71 [==============================] - 84s 1s/step - loss: 0.2425 - acc: 0.9164 - val_loss: 0.3490 - val_acc: 0.8750\n",
            "Epoch 36/60\n",
            "71/71 [==============================] - 85s 1s/step - loss: 0.2374 - acc: 0.9173 - val_loss: 0.2946 - val_acc: 0.9107\n",
            "Epoch 37/60\n",
            "71/71 [==============================] - 84s 1s/step - loss: 0.2515 - acc: 0.9062 - val_loss: 0.3004 - val_acc: 0.8705\n",
            "Epoch 38/60\n",
            "71/71 [==============================] - 85s 1s/step - loss: 0.2437 - acc: 0.9111 - val_loss: 0.3296 - val_acc: 0.8571\n",
            "Epoch 39/60\n",
            "71/71 [==============================] - 84s 1s/step - loss: 0.2203 - acc: 0.9212 - val_loss: 0.3390 - val_acc: 0.8705\n",
            "Epoch 40/60\n",
            "71/71 [==============================] - 83s 1s/step - loss: 0.2414 - acc: 0.9173 - val_loss: 0.3467 - val_acc: 0.8795\n",
            "Epoch 41/60\n",
            "71/71 [==============================] - 83s 1s/step - loss: 0.2306 - acc: 0.9151 - val_loss: 0.3385 - val_acc: 0.8929\n",
            "Epoch 42/60\n",
            "71/71 [==============================] - 83s 1s/step - loss: 0.2214 - acc: 0.9217 - val_loss: 0.3533 - val_acc: 0.8571\n",
            "Epoch 43/60\n",
            "71/71 [==============================] - 83s 1s/step - loss: 0.2141 - acc: 0.9212 - val_loss: 0.3339 - val_acc: 0.8839\n",
            "Epoch 44/60\n",
            "71/71 [==============================] - 84s 1s/step - loss: 0.2194 - acc: 0.9181 - val_loss: 0.3222 - val_acc: 0.8705\n",
            "Epoch 45/60\n",
            "71/71 [==============================] - 84s 1s/step - loss: 0.2121 - acc: 0.9269 - val_loss: 0.2860 - val_acc: 0.9062\n",
            "Epoch 46/60\n",
            "71/71 [==============================] - 84s 1s/step - loss: 0.2149 - acc: 0.9217 - val_loss: 0.3411 - val_acc: 0.8661\n",
            "Epoch 47/60\n",
            "71/71 [==============================] - 84s 1s/step - loss: 0.1961 - acc: 0.9331 - val_loss: 0.3286 - val_acc: 0.8705\n",
            "Epoch 48/60\n",
            "71/71 [==============================] - 84s 1s/step - loss: 0.2234 - acc: 0.9212 - val_loss: 0.3539 - val_acc: 0.8884\n",
            "Epoch 49/60\n",
            "71/71 [==============================] - 84s 1s/step - loss: 0.2023 - acc: 0.9313 - val_loss: 0.3563 - val_acc: 0.8795\n",
            "Epoch 50/60\n",
            "71/71 [==============================] - 84s 1s/step - loss: 0.1981 - acc: 0.9305 - val_loss: 0.3760 - val_acc: 0.8348\n",
            "Epoch 51/60\n",
            "71/71 [==============================] - 83s 1s/step - loss: 0.2171 - acc: 0.9239 - val_loss: 0.4011 - val_acc: 0.8571\n",
            "Epoch 52/60\n",
            "71/71 [==============================] - 83s 1s/step - loss: 0.1912 - acc: 0.9322 - val_loss: 0.2850 - val_acc: 0.8839\n",
            "Epoch 53/60\n",
            "71/71 [==============================] - 83s 1s/step - loss: 0.1918 - acc: 0.9313 - val_loss: 0.2930 - val_acc: 0.8973\n",
            "Epoch 54/60\n",
            "71/71 [==============================] - 84s 1s/step - loss: 0.2004 - acc: 0.9261 - val_loss: 0.3587 - val_acc: 0.8705\n",
            "Epoch 55/60\n",
            "71/71 [==============================] - 84s 1s/step - loss: 0.1859 - acc: 0.9349 - val_loss: 0.3654 - val_acc: 0.8750\n",
            "Epoch 56/60\n",
            "71/71 [==============================] - 84s 1s/step - loss: 0.1562 - acc: 0.9428 - val_loss: 0.3658 - val_acc: 0.8661\n",
            "Epoch 57/60\n",
            "71/71 [==============================] - 83s 1s/step - loss: 0.1677 - acc: 0.9388 - val_loss: 0.3285 - val_acc: 0.8884\n",
            "Epoch 58/60\n",
            "71/71 [==============================] - 84s 1s/step - loss: 0.1910 - acc: 0.9287 - val_loss: 0.3489 - val_acc: 0.8839\n",
            "Epoch 59/60\n",
            "71/71 [==============================] - 84s 1s/step - loss: 0.1610 - acc: 0.9406 - val_loss: 0.3780 - val_acc: 0.8482\n",
            "Epoch 60/60\n",
            "71/71 [==============================] - 84s 1s/step - loss: 0.1875 - acc: 0.9344 - val_loss: 0.3738 - val_acc: 0.8616\n"
          ]
        }
      ]
    },
    {
      "cell_type": "code",
      "source": [
        "#Visualize Training\n",
        "def plot_graphs(history, string):\n",
        "    plt.plot(history.history[string])\n",
        "    plt.plot(history.history[\"val_\"+string])\n",
        "    plt.xlabel(\"Epochs\")\n",
        "    plt.ylabel(string)\n",
        "    plt.legend([string,\"val_\"+string])\n",
        "    plt.show()\n",
        "plot_graphs(history,'acc')\n",
        "plot_graphs(history,'loss')"
      ],
      "metadata": {
        "id": "cf4d7McO3FJW",
        "colab": {
          "base_uri": "https://localhost:8080/",
          "height": 541
        },
        "outputId": "de2771c7-a48c-4d65-d849-040a0a3f0b60"
      },
      "execution_count": null,
      "outputs": [
        {
          "output_type": "display_data",
          "data": {
            "image/png": "[encoded data removed]",
            "text/plain": [
              "<Figure size 432x288 with 1 Axes>"
            ]
          },
          "metadata": {
            "needs_background": "light"
          }
        },
        {
          "output_type": "display_data",
          "data": {
            "image/png": "[encoded data removed]",
            "text/plain": [
              "<Figure size 432x288 with 1 Axes>"
            ]
          },
          "metadata": {
            "needs_background": "light"
          }
        }
      ]
    },
    {
      "cell_type": "code",
      "source": [
        "#test model\n",
        "loss= model.evaluate(validation_generator, steps=validation_generator.n)\n",
        "print(\"loss test: {:.2f}\\n\".format(loss[0]), \"\\raccuracy test: {:0.2f}\".format(loss[1]))"
      ],
      "metadata": {
        "id": "8nxEILs73ZTW",
        "colab": {
          "base_uri": "https://localhost:8080/"
        },
        "outputId": "ca397266-b001-4517-d6cd-09711d329eb7"
      },
      "execution_count": null,
      "outputs": [
        {
          "output_type": "stream",
          "name": "stdout",
          "text": [
            "  8/251 [..............................] - ETA: 4:05 - loss: 0.3926 - acc: 0.8486WARNING:tensorflow:Your input ran out of data; interrupting training. Make sure that your dataset or generator can generate at least `steps_per_epoch * epochs` batches (in this case, 251 batches). You may need to use the repeat() function when building your dataset.\n",
            "251/251 [==============================] - 9s 29ms/step - loss: 0.3926 - acc: 0.8486\n",
            "loss test: 0.39\n",
            "accuracy test: 0.85\n"
          ]
        }
      ]
    },
    {
      "cell_type": "code",
      "source": [
        "class_labels = list(validation_generator.class_indices.keys()) \n",
        "class_labels"
      ],
      "metadata": {
        "id": "VzNcG9Q53ZVu",
        "colab": {
          "base_uri": "https://localhost:8080/"
        },
        "outputId": "f68a1dd5-5c54-45b7-d2f4-23b4804a5c43"
      },
      "execution_count": null,
      "outputs": [
        {
          "output_type": "execute_result",
          "data": {
            "text/plain": [
              "['cardboard', 'glass', 'metal', 'paper', 'plastic', 'trash']"
            ]
          },
          "metadata": {},
          "execution_count": 14
        }
      ]
    },
    {
      "cell_type": "code",
      "source": [
        "from sklearn import metrics\n",
        "#Confution Matrix\n",
        "Y_pred = model.predict(validation_generator, step_size_validation // batch_size+1)\n",
        "y_pred = np.argmax(Y_pred, axis=1)\n",
        "cm = metrics.confusion_matrix(validation_generator.classes, y_pred)\n",
        "\n",
        "class_labels = list(validation_generator.class_indices.keys()) \n",
        "disp = metrics.ConfusionMatrixDisplay(confusion_matrix=cm, display_labels=class_labels)\n",
        "disp.plot(cmap=plt.cm.Blues)\n",
        "plt.show()"
      ],
      "metadata": {
        "id": "x37oqg5K3ZYU",
        "colab": {
          "base_uri": "https://localhost:8080/",
          "height": 279
        },
        "outputId": "ec14f5f1-4116-45ba-85b2-98492a30697a"
      },
      "execution_count": null,
      "outputs": [
        {
          "output_type": "display_data",
          "data": {
            "image/png": "[encoded data removed]",
            "text/plain": [
              "<Figure size 432x288 with 2 Axes>"
            ]
          },
          "metadata": {
            "needs_background": "light"
          }
        }
      ]
    },
    {
      "cell_type": "code",
      "source": [
        "results = model.predict(validation_generator, steps=validation_generator.n)\n",
        "predicted_classes = np.argmax(results, axis=1)\n",
        "# print(predicted_classes)\n",
        "true_classes = validation_generator.classes\n",
        "class_labels = list(validation_generator.class_indices.keys()) \n",
        "report = metrics.classification_report(true_classes, predicted_classes, target_names=class_labels)\n",
        "print(report)"
      ],
      "metadata": {
        "id": "nvERwXER3Zas",
        "colab": {
          "base_uri": "https://localhost:8080/"
        },
        "outputId": "1b330abb-a651-409c-8544-f8a0b145e8b7"
      },
      "execution_count": null,
      "outputs": [
        {
          "output_type": "stream",
          "name": "stdout",
          "text": [
            "WARNING:tensorflow:Your input ran out of data; interrupting training. Make sure that your dataset or generator can generate at least `steps_per_epoch * epochs` batches (in this case, 251 batches). You may need to use the repeat() function when building your dataset.\n",
            "              precision    recall  f1-score   support\n",
            "\n",
            "   cardboard       1.00      0.80      0.89        40\n",
            "       glass       0.78      0.94      0.85        50\n",
            "       metal       0.83      0.85      0.84        41\n",
            "       paper       0.80      0.97      0.88        59\n",
            "     plastic       0.87      0.71      0.78        48\n",
            "       trash       1.00      0.54      0.70        13\n",
            "\n",
            "    accuracy                           0.84       251\n",
            "   macro avg       0.88      0.80      0.82       251\n",
            "weighted avg       0.86      0.84      0.84       251\n",
            "\n"
          ]
        }
      ]
    },
    {
      "cell_type": "code",
      "source": [
        "from matplotlib.pyplot import imshow\n",
        "from PIL import Image\n",
        "\n",
        "image_path=\"/content/drive/MyDrive/data/validation/paper/paper164.jpg\"\n",
        "im = Image.open(image_path).resize((224,224))\n",
        "imshow(np.asarray(im))\n",
        "#im = im.convert('RGB')\n",
        "im = np.array(im)\n",
        "im = im.reshape(-1,224,224,3)\n",
        "im = 2*(im/255.0)-1.0\n",
        "result = model.predict(im)  \n",
        "predicted_class_indices=np.argmax(result,axis=1)\n",
        "labels = (train_generator.class_indices)\n",
        "labels = dict((v,k) for k,v in labels.items())\n",
        "predictions = [labels[k] for k in predicted_class_indices]\n",
        "print(\"Predicted class: \",predictions[0])"
      ],
      "metadata": {
        "id": "vJep7pNe3Zc_",
        "colab": {
          "base_uri": "https://localhost:8080/",
          "height": 349
        },
        "outputId": "d5cdb598-6f64-4e32-ecc2-e70c633c1105"
      },
      "execution_count": null,
      "outputs": [
        {
          "output_type": "error",
          "ename": "FileNotFoundError",
          "evalue": "ignored",
          "traceback": [
            "\u001b[0;31m---------------------------------------------------------------------------\u001b[0m",
            "\u001b[0;31mFileNotFoundError\u001b[0m                         Traceback (most recent call last)",
            "\u001b[0;32m<ipython-input-17-fcd6d9e07f06>\u001b[0m in \u001b[0;36m<module>\u001b[0;34m()\u001b[0m\n\u001b[1;32m      3\u001b[0m \u001b[0;34m\u001b[0m\u001b[0m\n\u001b[1;32m      4\u001b[0m \u001b[0mimage_path\u001b[0m\u001b[0;34m=\u001b[0m\u001b[0;34m\"/content/drive/MyDrive/data/validation/paper/paper164.jpg\"\u001b[0m\u001b[0;34m\u001b[0m\u001b[0;34m\u001b[0m\u001b[0m\n\u001b[0;32m----> 5\u001b[0;31m \u001b[0mim\u001b[0m \u001b[0;34m=\u001b[0m \u001b[0mImage\u001b[0m\u001b[0;34m.\u001b[0m\u001b[0mopen\u001b[0m\u001b[0;34m(\u001b[0m\u001b[0mimage_path\u001b[0m\u001b[0;34m)\u001b[0m\u001b[0;34m.\u001b[0m\u001b[0mresize\u001b[0m\u001b[0;34m(\u001b[0m\u001b[0;34m(\u001b[0m\u001b[0;36m224\u001b[0m\u001b[0;34m,\u001b[0m\u001b[0;36m224\u001b[0m\u001b[0;34m)\u001b[0m\u001b[0;34m)\u001b[0m\u001b[0;34m\u001b[0m\u001b[0;34m\u001b[0m\u001b[0m\n\u001b[0m\u001b[1;32m      6\u001b[0m \u001b[0mimshow\u001b[0m\u001b[0;34m(\u001b[0m\u001b[0mnp\u001b[0m\u001b[0;34m.\u001b[0m\u001b[0masarray\u001b[0m\u001b[0;34m(\u001b[0m\u001b[0mim\u001b[0m\u001b[0;34m)\u001b[0m\u001b[0;34m)\u001b[0m\u001b[0;34m\u001b[0m\u001b[0;34m\u001b[0m\u001b[0m\n\u001b[1;32m      7\u001b[0m \u001b[0;31m#im = im.convert('RGB')\u001b[0m\u001b[0;34m\u001b[0m\u001b[0;34m\u001b[0m\u001b[0;34m\u001b[0m\u001b[0m\n",
            "\u001b[0;32m/usr/local/lib/python3.7/dist-packages/PIL/Image.py\u001b[0m in \u001b[0;36mopen\u001b[0;34m(fp, mode)\u001b[0m\n\u001b[1;32m   2841\u001b[0m \u001b[0;34m\u001b[0m\u001b[0m\n\u001b[1;32m   2842\u001b[0m     \u001b[0;32mif\u001b[0m \u001b[0mfilename\u001b[0m\u001b[0;34m:\u001b[0m\u001b[0;34m\u001b[0m\u001b[0;34m\u001b[0m\u001b[0m\n\u001b[0;32m-> 2843\u001b[0;31m         \u001b[0mfp\u001b[0m \u001b[0;34m=\u001b[0m \u001b[0mbuiltins\u001b[0m\u001b[0;34m.\u001b[0m\u001b[0mopen\u001b[0m\u001b[0;34m(\u001b[0m\u001b[0mfilename\u001b[0m\u001b[0;34m,\u001b[0m \u001b[0;34m\"rb\"\u001b[0m\u001b[0;34m)\u001b[0m\u001b[0;34m\u001b[0m\u001b[0;34m\u001b[0m\u001b[0m\n\u001b[0m\u001b[1;32m   2844\u001b[0m         \u001b[0mexclusive_fp\u001b[0m \u001b[0;34m=\u001b[0m \u001b[0;32mTrue\u001b[0m\u001b[0;34m\u001b[0m\u001b[0;34m\u001b[0m\u001b[0m\n\u001b[1;32m   2845\u001b[0m \u001b[0;34m\u001b[0m\u001b[0m\n",
            "\u001b[0;31mFileNotFoundError\u001b[0m: [Errno 2] No such file or directory: '/content/drive/MyDrive/data/validation/paper/paper164.jpg'"
          ]
        }
      ]
    }
  ]
}